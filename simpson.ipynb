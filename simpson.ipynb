{
 "cells": [
  {
   "cell_type": "markdown",
   "metadata": {},
   "source": [
    "**1.feladat** Integráljuk **Simpson** módszerrel az $xsin(x)$ függvényt a $[0,1.5]$ intervallumon 5-részre osztással!"
   ]
  },
  {
   "cell_type": "code",
   "execution_count": 30,
   "metadata": {
    "collapsed": true
   },
   "outputs": [],
   "source": [
    "import numpy as np\n",
    "a,b=0.0,1.5 #ezen akarunk integrálni\n",
    "m=2 # ennyi részre osztjuk az intervallumot\n",
    "def func(x): # ezt a fv-t akarjuk integrálni\n",
    "    return(x*np.sin(x))"
   ]
  },
  {
   "cell_type": "markdown",
   "metadata": {},
   "source": [
    "**Egyszerű** Simpson-formula:\n",
    "$$\n",
    "\\frac{b-a}{6}\\left( f(a)+4f\\left(\\frac{a+b}{2}\\right)+f(b)\\right)\n",
    "$$\n",
    "\n",
    "**Összetett** Simpson-formula:\n",
    "$$\n",
    "\\frac{b-a}{6m}\\left( f(x_0)+4f(y_1)+2f(x_1)+\\ldots+4f(y_{m-1})+2f(x_{m-1})+4f(y_m)+f(x_m) \\right)\n",
    "$$"
   ]
  },
  {
   "cell_type": "code",
   "execution_count": 31,
   "metadata": {
    "collapsed": true
   },
   "outputs": [],
   "source": [
    "def simpson(f,a,b,m):\n",
    "    x=np.linspace(start=a,stop=b,num=m+1)\n",
    "    h=(b-a)/(2*m)\n",
    "    y=np.linspace(start=a+h,stop=b-h,num=m)\n",
    "    s=2*np.sum(f(x))-(f(a)+f(b))+4*np.sum(f(y))\n",
    "    return (b-a)/(6*m)*s\n"
   ]
  },
  {
   "cell_type": "code",
   "execution_count": 33,
   "metadata": {
    "collapsed": false
   },
   "outputs": [
    {
     "name": "stdout",
     "output_type": "stream",
     "text": [
      "0.891039198377\n"
     ]
    }
   ],
   "source": [
    "print(simpson(func,a,b,m))"
   ]
  },
  {
   "cell_type": "markdown",
   "metadata": {},
   "source": [
    "Hogyan ellenőrizzük az eredményt? Mivel közelítő értéket számolunk ami függ $m$-től, ezért az ellenőrzésen az $m$ növelésével a \"pontos\" értékhez való közeledés teljesülését *is* értjük. A \"pontos\" érték is kiszámolható python-nal:\n",
    "a **scipy.integrate** modulban megvan az összes klasszikus (numerikus) integrálásos cucc: [https://docs.scipy.org/doc/scipy/reference/tutorial/integrate.html](https://docs.scipy.org/doc/scipy/reference/tutorial/integrate.html)"
   ]
  },
  {
   "cell_type": "code",
   "execution_count": 21,
   "metadata": {
    "collapsed": false
   },
   "outputs": [
    {
     "name": "stdout",
     "output_type": "stream",
     "text": [
      "(0.8913891841025001, 9.896407960924282e-15)\n"
     ]
    }
   ],
   "source": [
    "import scipy.integrate as spq\n",
    "print(spq.quad(func,a,b))"
   ]
  },
  {
   "cell_type": "markdown",
   "metadata": {},
   "source": [
    "**Hiba, egyszerű** Simpson-formula:\n",
    "$$\n",
    "\\left| S(f,a,b)-\\int_a^b f \\right| \\le \\frac{M_{4}\\left(b-a\\right)^5}{2880}\n",
    "$$\n",
    "**Hiba, összetett** Simpson-formula:\n",
    "$$\n",
    "\\left| S(f,a,b,m)-\\int_a^b f \\right| \\le \\frac{M_4(b-a)^5}{2880 m^4}\n",
    "$$\n",
    "\n"
   ]
  },
  {
   "cell_type": "markdown",
   "metadata": {},
   "source": [
    "Mekkora $m$-et válasszunk a fenti esetben ha $\\delta=\\frac{1}{10000}$-nél kisebb hibát akarunk? Fejezzük ki az egyenlőtlenségből $m$-et:\n",
    "$$\n",
    "\\left( \\frac{M_4(b-a)^5}{2880\\delta}\\right)^{\\frac{1}{4}} < m\n",
    "$$\n",
    "gyakran $M_4$-t nehéz pontosan kiszámolni: adjunk rá felső becslést! Először, számoljuk ki \n",
    "$f^{4}$-t:\n"
   ]
  },
  {
   "cell_type": "code",
   "execution_count": 37,
   "metadata": {
    "collapsed": false
   },
   "outputs": [
    {
     "name": "stdout",
     "output_type": "stream",
     "text": [
      "x*sin(x) - 4*cos(x)\n"
     ]
    }
   ],
   "source": [
    "import sympy as sp\n",
    "x=sp.Symbol('x')\n",
    "expr='x*sin(x)'\n",
    "sd2func=sp.diff(expr,x,4)\n",
    "print(sd2func)\n",
    "del(x)"
   ]
  },
  {
   "cell_type": "markdown",
   "metadata": {},
   "source": [
    "Hasonlóan mint trapéz módszernél, kapjuk:\n",
    "$$\n",
    "|f^{4}(x)|\\le 1.5+4=5.5\n",
    "$$\n",
    "(ez utóbbi $\\triangle$ egyenlőtlenség miatt)\n"
   ]
  },
  {
   "cell_type": "code",
   "execution_count": 41,
   "metadata": {
    "collapsed": false
   },
   "outputs": [
    {
     "name": "stdout",
     "output_type": "stream",
     "text": [
      "3.4702169301786534\n"
     ]
    }
   ],
   "source": [
    "delta=1e-4\n",
    "M4=5.5\n",
    "m=(M4*(b-a)**5/(2880*delta))**0.25\n",
    "print(m)"
   ]
  },
  {
   "cell_type": "markdown",
   "metadata": {},
   "source": [
    "tehát $m=4$ biztosan elég a kívánt pontossághoz. (nem szükséges ennyi általában)"
   ]
  },
  {
   "cell_type": "markdown",
   "metadata": {
    "collapsed": true
   },
   "source": [
    "Lásd például: [http://archive.ipython.org/tmp/IntroNumPy.pdf](http://archive.ipython.org/tmp/IntroNumPy.pdf)"
   ]
  }
 ],
 "metadata": {
  "kernelspec": {
   "display_name": "Python 3",
   "language": "python",
   "name": "python3"
  },
  "language_info": {
   "codemirror_mode": {
    "name": "ipython",
    "version": 3
   },
   "file_extension": ".py",
   "mimetype": "text/x-python",
   "name": "python",
   "nbconvert_exporter": "python",
   "pygments_lexer": "ipython3",
   "version": "3.5.3"
  }
 },
 "nbformat": 4,
 "nbformat_minor": 2
}

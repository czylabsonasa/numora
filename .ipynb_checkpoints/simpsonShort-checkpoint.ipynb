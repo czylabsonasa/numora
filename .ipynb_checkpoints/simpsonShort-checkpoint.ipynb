{
 "cells": [
  {
   "cell_type": "code",
   "execution_count": 2,
   "metadata": {
    "collapsed": false
   },
   "outputs": [],
   "source": [
    "import numpy as np\n",
    "sin=np.sin\n",
    "cos=np.cos\n",
    "exp=np.exp\n",
    "log=np.log\n",
    "floor=np.floor\n",
    "ceil=np.ceil\n",
    "abs=np.abs\n",
    "pi=np.pi"
   ]
  },
  {
   "cell_type": "code",
   "execution_count": 3,
   "metadata": {
    "collapsed": true
   },
   "outputs": [],
   "source": [
    "funstr=\"x*sin(x)\"\n",
    "a,b=0,1.5\n",
    "m=3\n",
    "delta=0.0001"
   ]
  },
  {
   "cell_type": "code",
   "execution_count": 4,
   "metadata": {
    "collapsed": false
   },
   "outputs": [
    {
     "data": {
      "text/latex": [
       "\n",
       "Feladat: Közelítsük a Simpson módszerrel az\n",
       "        $x*sin(x)$ függvényt a $[0,1.5]$ intervallumon\n",
       "        $3$-részre osztással!\n"
      ],
      "text/plain": [
       "<IPython.core.display.Latex object>"
      ]
     },
     "metadata": {},
     "output_type": "display_data"
    }
   ],
   "source": [
    "from IPython.display import Latex\n",
    "out=\"\"\"\n",
    "Feladat: Közelítsük a Simpson módszerrel az\n",
    "        ${}$ függvényt a $[{},{}]$ intervallumon\n",
    "        ${}$-részre osztással!\n",
    "\"\"\".format(funstr,a,b,m)\n",
    "display(Latex(out))\n"
   ]
  },
  {
   "cell_type": "code",
   "execution_count": 5,
   "metadata": {
    "collapsed": true
   },
   "outputs": [],
   "source": [
    "# defining func as given by user\n",
    "makefun=\"\"\"\n",
    "def fun(x):\n",
    "    return({})\n",
    "\"\"\"\n",
    "exec(makefun.format(funstr))\n"
   ]
  },
  {
   "cell_type": "code",
   "execution_count": 6,
   "metadata": {
    "collapsed": true
   },
   "outputs": [],
   "source": [
    "def simpson(f,a,b,m):\n",
    "    x=np.linspace(start=a,stop=b,num=m+1)\n",
    "    h=(b-a)/(2*m)\n",
    "    y=np.linspace(start=a+h,stop=b-h,num=m)\n",
    "    s=2*np.sum(f(x))-(f(a)+f(b))+4*np.sum(f(y))\n",
    "    return (b-a)/(6*m)*s\n"
   ]
  },
  {
   "cell_type": "code",
   "execution_count": 7,
   "metadata": {
    "collapsed": false
   },
   "outputs": [
    {
     "name": "stdout",
     "output_type": "stream",
     "text": [
      "az integrál közelítő értéke: 0.8913211103523777\n"
     ]
    }
   ],
   "source": [
    "res=simpson(fun,a,b,m)\n",
    "print(\"az integrál közelítő értéke: {}\".format(res))"
   ]
  },
  {
   "cell_type": "code",
   "execution_count": 8,
   "metadata": {
    "collapsed": false
   },
   "outputs": [
    {
     "name": "stdout",
     "output_type": "stream",
     "text": [
      "az integrál pontos értéke: 0.8913891841025001\n",
      "az abszolút eltérés: 6.807375012241046e-05\n"
     ]
    }
   ],
   "source": [
    "import scipy.integrate as spq\n",
    "exact=spq.quad(fun,a,b)\n",
    "print(\"az integrál pontos értéke: {}\".format(exact[0]))\n",
    "print(\"az abszolút eltérés: {}\".format(abs(exact[0]-res)))"
   ]
  },
  {
   "cell_type": "code",
   "execution_count": 9,
   "metadata": {
    "collapsed": false
   },
   "outputs": [
    {
     "data": {
      "text/latex": [
       "\n",
       "Feladat: Mekkora $m$-et válasszunk a fenti esetben ha \n",
       "$\\delta=0.0001$-nél kisebb hibát akarunk?\n"
      ],
      "text/plain": [
       "<IPython.core.display.Latex object>"
      ]
     },
     "metadata": {},
     "output_type": "display_data"
    }
   ],
   "source": [
    "out=r\"\"\"\n",
    "Feladat: Mekkora $m$-et válasszunk a fenti esetben ha \n",
    "$\\delta=%s$-nél kisebb hibát akarunk?\n",
    "\"\"\" % str(delta)\n",
    "# stg is wrong the new format\n",
    "display(Latex(out))\n",
    "\n"
   ]
  },
  {
   "cell_type": "code",
   "execution_count": 10,
   "metadata": {
    "collapsed": false
   },
   "outputs": [
    {
     "data": {
      "text/latex": [
       "Számoljuk ki $f^{(4)}$-t:"
      ],
      "text/plain": [
       "<IPython.core.display.Latex object>"
      ]
     },
     "metadata": {},
     "output_type": "display_data"
    },
    {
     "name": "stdout",
     "output_type": "stream",
     "text": [
      "x*sin(x) - 4*cos(x)\n"
     ]
    }
   ],
   "source": [
    "display(Latex(\"Számoljuk ki $f^{(4)}$-t:\"))\n",
    "import sympy as sp\n",
    "x=sp.Symbol('x')\n",
    "expr=funstr\n",
    "sd2func=sp.diff(expr,x,4)\n",
    "print(sd2func)\n",
    "del(x)"
   ]
  },
  {
   "cell_type": "code",
   "execution_count": 11,
   "metadata": {
    "collapsed": false
   },
   "outputs": [
    {
     "name": "stdout",
     "output_type": "stream",
     "text": [
      "adj egy felső becslést a fenti deriváltra: 12\n"
     ]
    }
   ],
   "source": [
    "M=float(input(\"adj egy felső becslést a fenti deriváltra: \"))"
   ]
  },
  {
   "cell_type": "code",
   "execution_count": 13,
   "metadata": {
    "collapsed": false
   },
   "outputs": [
    {
     "name": "stdout",
     "output_type": "stream",
     "text": [
      "m = 4.217559938927618\n"
     ]
    }
   ],
   "source": [
    "m=(M*(b-a)**5/(2880*delta))**0.25\n",
    "print(\"m = {}\".format(m))"
   ]
  },
  {
   "cell_type": "code",
   "execution_count": 14,
   "metadata": {
    "collapsed": false
   },
   "outputs": [
    {
     "data": {
      "text/latex": [
       "tehát $5.0$ biztosan elég a kívánt pontossághoz. (nem szükséges ennyi általában)"
      ],
      "text/plain": [
       "<IPython.core.display.Latex object>"
      ]
     },
     "metadata": {},
     "output_type": "display_data"
    }
   ],
   "source": [
    "display(Latex('tehát ${}$ biztosan elég a kívánt pontossághoz. (nem szükséges ennyi általában)'.format(ceil(m))))"
   ]
  }
 ],
 "metadata": {
  "kernelspec": {
   "display_name": "Python 3",
   "language": "python",
   "name": "python3"
  },
  "language_info": {
   "codemirror_mode": {
    "name": "ipython",
    "version": 3
   },
   "file_extension": ".py",
   "mimetype": "text/x-python",
   "name": "python",
   "nbconvert_exporter": "python",
   "pygments_lexer": "ipython3",
   "version": "3.5.3"
  }
 },
 "nbformat": 4,
 "nbformat_minor": 2
}

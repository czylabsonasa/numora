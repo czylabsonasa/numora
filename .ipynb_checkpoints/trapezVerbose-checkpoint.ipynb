{
 "cells": [
  {
   "cell_type": "code",
   "execution_count": 1,
   "metadata": {
    "collapsed": false
   },
   "outputs": [],
   "source": [
    "import numpy as np\n",
    "sin=np.sin\n",
    "cos=np.cos\n",
    "exp=np.exp\n",
    "log=np.log\n",
    "floor=np.floor\n",
    "ceil=np.ceil\n",
    "abs=np.abs\n",
    "pi=np.pi"
   ]
  },
  {
   "cell_type": "code",
   "execution_count": 2,
   "metadata": {
    "collapsed": true
   },
   "outputs": [],
   "source": [
    "funstr=\"x*sin(x)\"\n",
    "a,b=0,1.5\n",
    "m=3\n",
    "delta=0.0001"
   ]
  },
  {
   "cell_type": "code",
   "execution_count": 3,
   "metadata": {
    "collapsed": false
   },
   "outputs": [
    {
     "data": {
      "text/latex": [
       "\n",
       "Feladat: Közelítsük a trapéz módszerrel az\n",
       "        $x*sin(x)$ függvényt a $[0,1.5]$ intervallumon\n",
       "        $3$-részre osztással!\n"
      ],
      "text/plain": [
       "<IPython.core.display.Latex object>"
      ]
     },
     "metadata": {},
     "output_type": "display_data"
    }
   ],
   "source": [
    "from IPython.display import Latex\n",
    "out=\"\"\"\n",
    "Feladat: Közelítsük a trapéz módszerrel az\n",
    "        ${}$ függvényt a $[{},{}]$ intervallumon\n",
    "        ${}$-részre osztással!\n",
    "\"\"\".format(funstr,a,b,m)\n",
    "display(Latex(out))\n"
   ]
  },
  {
   "cell_type": "code",
   "execution_count": 4,
   "metadata": {
    "collapsed": true
   },
   "outputs": [],
   "source": [
    "# defining func as given by user\n",
    "makefun=\"\"\"\n",
    "def fun(x):\n",
    "    return({})\n",
    "\"\"\"\n",
    "exec(makefun.format(funstr))\n"
   ]
  },
  {
   "cell_type": "code",
   "execution_count": 5,
   "metadata": {
    "collapsed": false
   },
   "outputs": [
    {
     "data": {
      "text/latex": [
       "Egyszerű trapéz-formula:\n",
       "$$\n",
       "\\frac{b-a}{2}\\left( f(a)+f(b)\\right)\n",
       "$$\n",
       "\n",
       "Összetett trapéz-formula:\n",
       "$$\n",
       "\\frac{b-a}{2m}\\left( f(x_0)+2f(x_1)+\\ldots+2f(x_{m-1})+f(x_m) \\right)\n",
       "$$"
      ],
      "text/plain": [
       "<IPython.core.display.Latex object>"
      ]
     },
     "metadata": {},
     "output_type": "display_data"
    }
   ],
   "source": [
    "%%latex\n",
    "Egyszerű trapéz-formula:\n",
    "$$\n",
    "\\frac{b-a}{2}\\left( f(a)+f(b)\\right)\n",
    "$$\n",
    "\n",
    "Összetett trapéz-formula:\n",
    "$$\n",
    "\\frac{b-a}{2m}\\left( f(x_0)+2f(x_1)+\\ldots+2f(x_{m-1})+f(x_m) \\right)\n",
    "$$"
   ]
  },
  {
   "cell_type": "code",
   "execution_count": 6,
   "metadata": {
    "collapsed": true
   },
   "outputs": [],
   "source": [
    "def trapez(f,a,b,m):\n",
    "    x=np.linspace(start=a,stop=b,num=m+1)\n",
    "    h=(b-a)/(2*m)\n",
    "    s=2*np.sum(f(x))-(f(a)+f(b))\n",
    "    return h*s\n"
   ]
  },
  {
   "cell_type": "code",
   "execution_count": 7,
   "metadata": {
    "collapsed": false
   },
   "outputs": [
    {
     "name": "stdout",
     "output_type": "stream",
     "text": [
      "az integrál közelítő értéke: 0.9146524970315193\n"
     ]
    }
   ],
   "source": [
    "res=trapez(fun,a,b,m)\n",
    "print(\"az integrál közelítő értéke: {}\".format(res))"
   ]
  },
  {
   "cell_type": "markdown",
   "metadata": {},
   "source": [
    "Hogyan ellenőrizzük az eredményt? Mivel közelítő értéket számolunk ami függ $m$-től, ezért az ellenőrzésen az $m$ növelésével a \"pontos\" értékhez való közeledés teljesülését *is* értjük. A \"pontos\" érték is kiszámolható python-nal:\n",
    "a **scipy.integrate** modulban megvan az összes klasszikus (numerikus) integrálásos cucc: [https://docs.scipy.org/doc/scipy/reference/tutorial/integrate.html](https://docs.scipy.org/doc/scipy/reference/tutorial/integrate.html)"
   ]
  },
  {
   "cell_type": "code",
   "execution_count": 8,
   "metadata": {
    "collapsed": false
   },
   "outputs": [
    {
     "name": "stdout",
     "output_type": "stream",
     "text": [
      "az integrál pontos értéke: 0.8913891841025001\n",
      "az abszolút eltérés: 0.023263312929019175\n"
     ]
    }
   ],
   "source": [
    "import scipy.integrate as spq\n",
    "exact=spq.quad(fun,a,b)\n",
    "print(\"az integrál pontos értéke: {}\".format(exact[0]))\n",
    "print(\"az abszolút eltérés: {}\".format(abs(exact[0]-res)))"
   ]
  },
  {
   "cell_type": "code",
   "execution_count": 9,
   "metadata": {
    "collapsed": false
   },
   "outputs": [
    {
     "data": {
      "text/latex": [
       "Hiba, egyszerű trapéz-formula:\n",
       "$$\n",
       "\\left| T(f,a,b)-\\int_a^b f \\right| \\le \\frac{M_{2}\\left(b-a\\right)^3}{12}\n",
       "$$\n",
       "Hiba, összetett trapéz-formula:\n",
       "$$\n",
       "\\left| T(f,a,b,m)-\\int_a^b f \\right| \\le \\frac{M_2(b-a)^3}{12m^2}\n",
       "$$\n",
       "$$\n",
       "M_r=\\sup_{x\\in [a,b]} |f^{(r)}(x)|\n",
       "$$\n"
      ],
      "text/plain": [
       "<IPython.core.display.Latex object>"
      ]
     },
     "metadata": {},
     "output_type": "display_data"
    }
   ],
   "source": [
    "%%latex\n",
    "Hiba, egyszerű trapéz-formula:\n",
    "$$\n",
    "\\left| T(f,a,b)-\\int_a^b f \\right| \\le \\frac{M_{2}\\left(b-a\\right)^3}{12}\n",
    "$$\n",
    "Hiba, összetett trapéz-formula:\n",
    "$$\n",
    "\\left| T(f,a,b,m)-\\int_a^b f \\right| \\le \\frac{M_2(b-a)^3}{12m^2}\n",
    "$$\n",
    "$$\n",
    "M_r=\\sup_{x\\in [a,b]} |f^{(r)}(x)|\n",
    "$$\n",
    "\n"
   ]
  },
  {
   "cell_type": "code",
   "execution_count": 10,
   "metadata": {
    "collapsed": false
   },
   "outputs": [
    {
     "data": {
      "text/latex": [
       "\n",
       "Feladat: Mekkora $m$-et válasszunk a fenti esetben ha \n",
       "$\\delta=0.0001$-nél kisebb hibát akarunk?\n"
      ],
      "text/plain": [
       "<IPython.core.display.Latex object>"
      ]
     },
     "metadata": {},
     "output_type": "display_data"
    }
   ],
   "source": [
    "out=r\"\"\"\n",
    "Feladat: Mekkora $m$-et válasszunk a fenti esetben ha \n",
    "$\\delta=%s$-nél kisebb hibát akarunk?\n",
    "\"\"\" % str(delta)\n",
    "# stg is wrong the new format\n",
    "display(Latex(out))\n",
    "\n"
   ]
  },
  {
   "cell_type": "code",
   "execution_count": 11,
   "metadata": {
    "collapsed": false
   },
   "outputs": [
    {
     "data": {
      "text/latex": [
       "$$\n",
       "error\\le\\frac{M_2(b-a)^3}{12 m^2}\\le\n",
       "\\frac{M(b-a)^3}{12 m^2}<\\delta\n",
       "$$\n",
       "Az $M$ egy tetszőleges felső becslése $M_2$-nek.\n",
       "Fejezzük ki az egyenlőtlenségből $m$-et:\n",
       "$$\n",
       "\\left( \\frac{M(b-a)^3}{12\\delta}\\right)^{\\frac{1}{2}} < m\n",
       "$$"
      ],
      "text/plain": [
       "<IPython.core.display.Latex object>"
      ]
     },
     "metadata": {},
     "output_type": "display_data"
    }
   ],
   "source": [
    "%%latex\n",
    "$$\n",
    "error\\le\\frac{M_2(b-a)^3}{12 m^2}\\le\n",
    "\\frac{M(b-a)^3}{12 m^2}<\\delta\n",
    "$$\n",
    "Az $M$ egy tetszőleges felső becslése $M_2$-nek.\n",
    "Fejezzük ki az egyenlőtlenségből $m$-et:\n",
    "$$\n",
    "\\left( \\frac{M(b-a)^3}{12\\delta}\\right)^{\\frac{1}{2}} < m\n",
    "$$\n"
   ]
  },
  {
   "cell_type": "code",
   "execution_count": 16,
   "metadata": {
    "collapsed": false
   },
   "outputs": [
    {
     "data": {
      "text/latex": [
       "Most számoljuk ki $f^{(2)}$-t:"
      ],
      "text/plain": [
       "<IPython.core.display.Latex object>"
      ]
     },
     "metadata": {},
     "output_type": "display_data"
    },
    {
     "name": "stdout",
     "output_type": "stream",
     "text": [
      "-x*sin(x) + 2*cos(x)\n"
     ]
    }
   ],
   "source": [
    "display(Latex(\"Most számoljuk ki $f^{(2)}$-t:\"))\n",
    "import sympy as sp\n",
    "x=sp.Symbol('x')\n",
    "expr=funstr\n",
    "sd2func=sp.diff(expr,x,2)\n",
    "print(sd2func)\n",
    "del(x)"
   ]
  },
  {
   "cell_type": "code",
   "execution_count": 13,
   "metadata": {
    "collapsed": false
   },
   "outputs": [
    {
     "name": "stdout",
     "output_type": "stream",
     "text": [
      "adj egy felső becslést a fenti deriváltra: 3.5\n"
     ]
    }
   ],
   "source": [
    "M=float(input(\"adj egy felső becslést a fenti deriváltra: \"))"
   ]
  },
  {
   "cell_type": "code",
   "execution_count": 14,
   "metadata": {
    "collapsed": false
   },
   "outputs": [
    {
     "name": "stdout",
     "output_type": "stream",
     "text": [
      "99.21567416492213\n"
     ]
    }
   ],
   "source": [
    "m=(M*(b-a)**3/(12*delta))**0.5\n",
    "print(m)"
   ]
  },
  {
   "cell_type": "code",
   "execution_count": 15,
   "metadata": {
    "collapsed": false
   },
   "outputs": [
    {
     "data": {
      "text/latex": [
       "tehát $100.0$ biztosan elég a kívánt pontossághoz. (nem szükséges ennyi általában)"
      ],
      "text/plain": [
       "<IPython.core.display.Latex object>"
      ]
     },
     "metadata": {},
     "output_type": "display_data"
    }
   ],
   "source": [
    "display(Latex('tehát ${}$ biztosan elég a kívánt pontossághoz. (nem szükséges ennyi általában)'.format(ceil(m))))"
   ]
  },
  {
   "cell_type": "markdown",
   "metadata": {
    "collapsed": true
   },
   "source": [
    "Bővebben a numpy-ról: [http://archive.ipython.org/tmp/IntroNumPy.pdf](http://archive.ipython.org/tmp/IntroNumPy.pdf)"
   ]
  }
 ],
 "metadata": {
  "kernelspec": {
   "display_name": "Python 3",
   "language": "python",
   "name": "python3"
  },
  "language_info": {
   "codemirror_mode": {
    "name": "ipython",
    "version": 3
   },
   "file_extension": ".py",
   "mimetype": "text/x-python",
   "name": "python",
   "nbconvert_exporter": "python",
   "pygments_lexer": "ipython3",
   "version": "3.5.3"
  }
 },
 "nbformat": 4,
 "nbformat_minor": 2
}

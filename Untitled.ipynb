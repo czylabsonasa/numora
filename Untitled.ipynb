{
 "cells": [
  {
   "cell_type": "code",
   "execution_count": 23,
   "metadata": {
    "collapsed": true
   },
   "outputs": [],
   "source": [
    "import numpy as np\n",
    "sin=np.sin\n",
    "cos=np.cos\n",
    "exp=np.exp\n",
    "log=np.log\n",
    "floor=np.floor\n",
    "ceil=np.ceil\n",
    "abs=np.abs\n",
    "pi=np.pi\n",
    "matrix=np.matrix\n",
    "dot=np.dot\n",
    "import scipy.linalg as scl\n",
    "eigen=scl.eigh\n",
    "import numpy.random as nr\n",
    "import sympy as sp"
   ]
  },
  {
   "cell_type": "code",
   "execution_count": 21,
   "metadata": {
    "collapsed": false
   },
   "outputs": [
    {
     "name": "stdout",
     "output_type": "stream",
     "text": [
      "[[1 2]\n",
      " [2 1]]\n",
      "[-1.  3.]\n",
      "[[-0.70710678  0.70710678]\n",
      " [ 0.70710678  0.70710678]]\n",
      "[[ 0.70710678 -0.70710678]] [ 0.70710678 -0.70710678]\n"
     ]
    }
   ],
   "source": [
    "A=matrix([1, 2, 2, 1]).reshape(2,2)\n",
    "print(A)\n",
    "val,vec=eigen(A)\n",
    "print(val)\n",
    "print(vec)\n",
    "print(dot(A,vec[0]),val[0]*vec[0])\n"
   ]
  },
  {
   "cell_type": "code",
   "execution_count": 27,
   "metadata": {
    "collapsed": false
   },
   "outputs": [],
   "source": [
    "type(A)\n",
    "?sp.det(A)"
   ]
  },
  {
   "cell_type": "code",
   "execution_count": null,
   "metadata": {
    "collapsed": true
   },
   "outputs": [],
   "source": []
  }
 ],
 "metadata": {
  "kernelspec": {
   "display_name": "Python 3",
   "language": "python",
   "name": "python3"
  },
  "language_info": {
   "codemirror_mode": {
    "name": "ipython",
    "version": 3
   },
   "file_extension": ".py",
   "mimetype": "text/x-python",
   "name": "python",
   "nbconvert_exporter": "python",
   "pygments_lexer": "ipython3",
   "version": "3.5.3"
  }
 },
 "nbformat": 4,
 "nbformat_minor": 2
}
